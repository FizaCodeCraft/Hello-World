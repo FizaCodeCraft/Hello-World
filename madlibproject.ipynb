{
  "nbformat": 4,
  "nbformat_minor": 0,
  "metadata": {
    "colab": {
      "provenance": [],
      "authorship_tag": "ABX9TyOdDa7Hp2pUT0HIDS6gA7ur",
      "include_colab_link": true
    },
    "kernelspec": {
      "name": "python3",
      "display_name": "Python 3"
    },
    "language_info": {
      "name": "python"
    }
  },
  "cells": [
    {
      "cell_type": "markdown",
      "metadata": {
        "id": "view-in-github",
        "colab_type": "text"
      },
      "source": [
        "<a href=\"https://colab.research.google.com/github/FizaCodeCraft/Hello-World/blob/main/madlibproject.ipynb\" target=\"_parent\"><img src=\"https://colab.research.google.com/assets/colab-badge.svg\" alt=\"Open In Colab\"/></a>"
      ]
    },
    {
      "cell_type": "markdown",
      "source": [
        "**Mad libs Python Project**"
      ],
      "metadata": {
        "id": "S8DhB-mlf_dY"
      }
    },
    {
      "cell_type": "code",
      "source": [
        "def mad_libs():\n",
        "    print(\"Welcome to Mad Libs!\")\n",
        "\n",
        "    # Choose a story template\n",
        "    print(\"Choose a story template:\")\n",
        "    print(\"1. The Crazy Pizza Party\")\n",
        "    print(\"2. The SuperHero's Day Off\")\n",
        "    print(\"3. The Alien Encounter\")\n",
        "    choice = input(\"Enter the number of your choice: \")\n",
        "\n",
        "    if choice == \"1\":\n",
        "        # The Crazy Pizza Party\n",
        "        adjective = input(\"Enter an adjective: \")\n",
        "        noun = input(\"Enter a noun: \")\n",
        "        verb = input(\"Enter a verb: \")\n",
        "        place = input(\"Enter a place: \")\n",
        "        story = f\"Last Saturday, my friends and I decided to throw a {adjective} pizza party at {place}.\\n We ordered a gigantic pizza with 10 toppings, including pineapple, pepperoni, and marshmallows.\\n When the pizza arrived, it looked so delicious that we couldn't wait to {verb} it!\\n But just as we were about to take a bite, a raccoon jumped onto the table and started dancing on the pizza.\\n We all screamed, Oh no! and tried to shoo the {noun} away.\\n In the end, we decided to order sushi instead and spent the rest of the night laughing and singing.\"\n",
        "    elif choice == \"2\":\n",
        "        # The SuperHero's Day Off\n",
        "        adjective = input(\"Enter an adjective: \")\n",
        "        noun = input(\"Enter a noun: \")\n",
        "        verb = input(\"Enter a verb: \")\n",
        "        place = input(\"Enter a place: \")\n",
        "        story = f\"One {adjective} morning, {noun} decided to take a break and {verb} in the {place}. \\nBut suddenly, a evil Dr Chaos appeared and started stealing everything!\"\n",
        "\n",
        "    elif choice == \"3\":\n",
        "        # The Alien Encounter\n",
        "        adjective = input(\"Enter an adjective: \")\n",
        "        noun = input(\"Enter a noun: \")\n",
        "        verb = input(\"Enter a verb: \")\n",
        "        place = input(\"Enter a place: \")\n",
        "        story = f\"While {verb} in the {place}, I saw a {adjective} UFO and met a tiny alien holding a {noun}. \\nThe alien said, silly phrase and invited me to visit Jupiter!\"\n",
        "    else:\n",
        "        story = \"Invalid choice! Please try again.\"\n",
        "\n",
        "    # Display the final story\n",
        "    print(\"\\nHere's your Mad Libs story:\\n\")\n",
        "    print(story)\n",
        "\n",
        "# Run the Mad Libs game\n",
        "mad_libs()"
      ],
      "metadata": {
        "colab": {
          "base_uri": "https://localhost:8080/"
        },
        "id": "aCgtw5bKgNGo",
        "outputId": "b51babce-d1ee-4fcf-dc4d-66f2d4e809de"
      },
      "execution_count": null,
      "outputs": [
        {
          "output_type": "stream",
          "name": "stdout",
          "text": [
            "Welcome to Mad Libs!\n",
            "Choose a story template:\n",
            "1. The Crazy Pizza Party\n",
            "2. The SuperHero's Day Off\n",
            "3. The Alien Encounter\n",
            "Enter the number of your choice: 1\n",
            "Enter an adjective: kjf\n",
            "Enter a noun: kjfd\n",
            "Enter a verb: sdfn\n",
            "Enter a place: ksdjfn\n",
            "\n",
            "Here's your Mad Libs story:\n",
            "\n",
            "Last Saturday, my friends and I decided to throw a kjf pizza party at ksdjfn.\n",
            " We ordered a gigantic pizza with 10 toppings, including pineapple, pepperoni, and marshmallows.\n",
            " When the pizza arrived, it looked so delicious that we couldn't wait to sdfn it!\n",
            " But just as we were about to take a bite, a raccoon jumped onto the table and started dancing on the pizza.\n",
            " We all screamed, Oh no! and tried to shoo the kjfd away. In the end, we decided to order sushi instead and spent the rest of the night laughing and singing.\n"
          ]
        }
      ]
    }
  ]
}